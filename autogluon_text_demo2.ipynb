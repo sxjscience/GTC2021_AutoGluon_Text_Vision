{
 "cells": [
  {
   "cell_type": "markdown",
   "id": "psychological-bachelor",
   "metadata": {},
   "source": [
    "# AutoGluon Text - Multimodal Table with Text\n",
    "\n",
    "In many applications, text data may be mixed with numeric/categorical data. AutoGluon's `TextPredictor` can train a single neural network that jointly operates on multiple feature types, including text, categorical, and numerical columns. The general idea is to embed the text, categorical and numeric fields separately and fuse these features across modalities. This tutorial demonstrates such an application."
   ]
  },
  {
   "cell_type": "code",
   "execution_count": 1,
   "id": "mature-october",
   "metadata": {},
   "outputs": [],
   "source": [
    "import numpy as np\n",
    "import pandas as pd\n",
    "import os\n",
    "import warnings\n",
    "warnings.filterwarnings('ignore')\n",
    "np.random.seed(123)"
   ]
  },
  {
   "cell_type": "markdown",
   "id": "thermal-amsterdam",
   "metadata": {},
   "source": [
    "## Book Price Prediction Data\n",
    "\n",
    "For demonstration, we use the book price prediction dataset from the [MachineHack Book Price Prediction Hackathon](https://www.machinehack.com/hackathons/predict_the_price_of_books/overview). Our goal is to predict a book's price given various features like its author, the abstract, the book's rating, etc."
   ]
  },
  {
   "cell_type": "code",
   "execution_count": 2,
   "id": "attached-computer",
   "metadata": {},
   "outputs": [
    {
     "name": "stdout",
     "output_type": "stream",
     "text": [
      "--2021-03-29 05:01:09--  https://automl-mm-bench.s3.amazonaws.com/machine_hack_competitions/predict_the_price_of_books/Data.zip\n",
      "Resolving automl-mm-bench.s3.amazonaws.com (automl-mm-bench.s3.amazonaws.com)... 52.216.178.139\n",
      "Connecting to automl-mm-bench.s3.amazonaws.com (automl-mm-bench.s3.amazonaws.com)|52.216.178.139|:443... connected.\n",
      "HTTP request sent, awaiting response... 200 OK\n",
      "Length: 3521673 (3.4M) [application/zip]\n",
      "Saving to: ‘price_of_books/Data.zip’\n",
      "\n",
      "price_of_books/Data 100%[===================>]   3.36M  --.-KB/s    in 0.05s   \n",
      "\n",
      "2021-03-29 05:01:11 (68.6 MB/s) - ‘price_of_books/Data.zip’ saved [3521673/3521673]\n",
      "\n",
      "Archive:  Data.zip\n",
      "  inflating: Participants_Data/Data_Test.xlsx  \n",
      "  inflating: Participants_Data/Data_Train.xlsx  \n",
      "  inflating: Participants_Data/Sample_Submission.xlsx  \n",
      "Data_Test.xlsx\tData_Train.xlsx  Sample_Submission.xlsx\n"
     ]
    }
   ],
   "source": [
    "!mkdir -p price_of_books\n",
    "!wget https://automl-mm-bench.s3.amazonaws.com/machine_hack_competitions/predict_the_price_of_books/Data.zip -O price_of_books/Data.zip\n",
    "!cd price_of_books && unzip -o Data.zip\n",
    "!ls price_of_books/Participants_Data"
   ]
  },
  {
   "cell_type": "code",
   "execution_count": 3,
   "id": "regulated-barcelona",
   "metadata": {},
   "outputs": [
    {
     "data": {
      "text/html": [
       "<div>\n",
       "<style scoped>\n",
       "    .dataframe tbody tr th:only-of-type {\n",
       "        vertical-align: middle;\n",
       "    }\n",
       "\n",
       "    .dataframe tbody tr th {\n",
       "        vertical-align: top;\n",
       "    }\n",
       "\n",
       "    .dataframe thead th {\n",
       "        text-align: right;\n",
       "    }\n",
       "</style>\n",
       "<table border=\"1\" class=\"dataframe\">\n",
       "  <thead>\n",
       "    <tr style=\"text-align: right;\">\n",
       "      <th></th>\n",
       "      <th>Title</th>\n",
       "      <th>Author</th>\n",
       "      <th>Edition</th>\n",
       "      <th>Reviews</th>\n",
       "      <th>Ratings</th>\n",
       "      <th>Synopsis</th>\n",
       "      <th>Genre</th>\n",
       "      <th>BookCategory</th>\n",
       "      <th>Price</th>\n",
       "    </tr>\n",
       "  </thead>\n",
       "  <tbody>\n",
       "    <tr>\n",
       "      <th>0</th>\n",
       "      <td>The Prisoner's Gold (The Hunters 3)</td>\n",
       "      <td>Chris Kuzneski</td>\n",
       "      <td>Paperback,– 10 Mar 2016</td>\n",
       "      <td>4.0 out of 5 stars</td>\n",
       "      <td>8 customer reviews</td>\n",
       "      <td>THE HUNTERS return in their third brilliant no...</td>\n",
       "      <td>Action &amp; Adventure (Books)</td>\n",
       "      <td>Action &amp; Adventure</td>\n",
       "      <td>220.00</td>\n",
       "    </tr>\n",
       "    <tr>\n",
       "      <th>1</th>\n",
       "      <td>Guru Dutt: A Tragedy in Three Acts</td>\n",
       "      <td>Arun Khopkar</td>\n",
       "      <td>Paperback,– 7 Nov 2012</td>\n",
       "      <td>3.9 out of 5 stars</td>\n",
       "      <td>14 customer reviews</td>\n",
       "      <td>A layered portrait of a troubled genius for wh...</td>\n",
       "      <td>Cinema &amp; Broadcast (Books)</td>\n",
       "      <td>Biographies, Diaries &amp; True Accounts</td>\n",
       "      <td>202.93</td>\n",
       "    </tr>\n",
       "    <tr>\n",
       "      <th>2</th>\n",
       "      <td>Leviathan (Penguin Classics)</td>\n",
       "      <td>Thomas Hobbes</td>\n",
       "      <td>Paperback,– 25 Feb 1982</td>\n",
       "      <td>4.8 out of 5 stars</td>\n",
       "      <td>6 customer reviews</td>\n",
       "      <td>\"During the time men live without a common Pow...</td>\n",
       "      <td>International Relations</td>\n",
       "      <td>Humour</td>\n",
       "      <td>299.00</td>\n",
       "    </tr>\n",
       "    <tr>\n",
       "      <th>3</th>\n",
       "      <td>A Pocket Full of Rye (Miss Marple)</td>\n",
       "      <td>Agatha Christie</td>\n",
       "      <td>Paperback,– 5 Oct 2017</td>\n",
       "      <td>4.1 out of 5 stars</td>\n",
       "      <td>13 customer reviews</td>\n",
       "      <td>A handful of grain is found in the pocket of a...</td>\n",
       "      <td>Contemporary Fiction (Books)</td>\n",
       "      <td>Crime, Thriller &amp; Mystery</td>\n",
       "      <td>180.00</td>\n",
       "    </tr>\n",
       "    <tr>\n",
       "      <th>4</th>\n",
       "      <td>LIFE 70 Years of Extraordinary Photography</td>\n",
       "      <td>Editors of Life</td>\n",
       "      <td>Hardcover,– 10 Oct 2006</td>\n",
       "      <td>5.0 out of 5 stars</td>\n",
       "      <td>1 customer review</td>\n",
       "      <td>For seven decades, \"Life\" has been thrilling t...</td>\n",
       "      <td>Photography Textbooks</td>\n",
       "      <td>Arts, Film &amp; Photography</td>\n",
       "      <td>965.62</td>\n",
       "    </tr>\n",
       "  </tbody>\n",
       "</table>\n",
       "</div>"
      ],
      "text/plain": [
       "                                        Title           Author  \\\n",
       "0         The Prisoner's Gold (The Hunters 3)   Chris Kuzneski   \n",
       "1          Guru Dutt: A Tragedy in Three Acts     Arun Khopkar   \n",
       "2                Leviathan (Penguin Classics)    Thomas Hobbes   \n",
       "3          A Pocket Full of Rye (Miss Marple)  Agatha Christie   \n",
       "4  LIFE 70 Years of Extraordinary Photography  Editors of Life   \n",
       "\n",
       "                   Edition             Reviews              Ratings  \\\n",
       "0  Paperback,– 10 Mar 2016  4.0 out of 5 stars   8 customer reviews   \n",
       "1   Paperback,– 7 Nov 2012  3.9 out of 5 stars  14 customer reviews   \n",
       "2  Paperback,– 25 Feb 1982  4.8 out of 5 stars   6 customer reviews   \n",
       "3   Paperback,– 5 Oct 2017  4.1 out of 5 stars  13 customer reviews   \n",
       "4  Hardcover,– 10 Oct 2006  5.0 out of 5 stars    1 customer review   \n",
       "\n",
       "                                            Synopsis  \\\n",
       "0  THE HUNTERS return in their third brilliant no...   \n",
       "1  A layered portrait of a troubled genius for wh...   \n",
       "2  \"During the time men live without a common Pow...   \n",
       "3  A handful of grain is found in the pocket of a...   \n",
       "4  For seven decades, \"Life\" has been thrilling t...   \n",
       "\n",
       "                          Genre                          BookCategory   Price  \n",
       "0    Action & Adventure (Books)                    Action & Adventure  220.00  \n",
       "1    Cinema & Broadcast (Books)  Biographies, Diaries & True Accounts  202.93  \n",
       "2       International Relations                                Humour  299.00  \n",
       "3  Contemporary Fiction (Books)             Crime, Thriller & Mystery  180.00  \n",
       "4         Photography Textbooks              Arts, Film & Photography  965.62  "
      ]
     },
     "execution_count": 3,
     "metadata": {},
     "output_type": "execute_result"
    }
   ],
   "source": [
    "train_df = pd.read_excel(os.path.join('price_of_books', 'Participants_Data', 'Data_Train.xlsx'), engine='openpyxl')\n",
    "train_df.head()"
   ]
  },
  {
   "cell_type": "markdown",
   "id": "documented-benefit",
   "metadata": {},
   "source": [
    "We do some basic preprocessing to convert `Reviews` and `Ratings` in the data table to numeric values, and we transform prices to a log-scale."
   ]
  },
  {
   "cell_type": "code",
   "execution_count": 4,
   "id": "developed-musician",
   "metadata": {},
   "outputs": [
    {
     "data": {
      "text/html": [
       "<div>\n",
       "<style scoped>\n",
       "    .dataframe tbody tr th:only-of-type {\n",
       "        vertical-align: middle;\n",
       "    }\n",
       "\n",
       "    .dataframe tbody tr th {\n",
       "        vertical-align: top;\n",
       "    }\n",
       "\n",
       "    .dataframe thead th {\n",
       "        text-align: right;\n",
       "    }\n",
       "</style>\n",
       "<table border=\"1\" class=\"dataframe\">\n",
       "  <thead>\n",
       "    <tr style=\"text-align: right;\">\n",
       "      <th></th>\n",
       "      <th>Title</th>\n",
       "      <th>Author</th>\n",
       "      <th>Edition</th>\n",
       "      <th>Reviews</th>\n",
       "      <th>Ratings</th>\n",
       "      <th>Synopsis</th>\n",
       "      <th>Genre</th>\n",
       "      <th>BookCategory</th>\n",
       "      <th>Price</th>\n",
       "    </tr>\n",
       "  </thead>\n",
       "  <tbody>\n",
       "    <tr>\n",
       "      <th>949</th>\n",
       "      <td>Furious Hours</td>\n",
       "      <td>Casey Cep</td>\n",
       "      <td>Paperback,– 1 Jun 2019</td>\n",
       "      <td>4.0</td>\n",
       "      <td>NaN</td>\n",
       "      <td>‘It’s been a long time since I picked up a boo...</td>\n",
       "      <td>True Accounts (Books)</td>\n",
       "      <td>Biographies, Diaries &amp; True Accounts</td>\n",
       "      <td>5.743003</td>\n",
       "    </tr>\n",
       "    <tr>\n",
       "      <th>5504</th>\n",
       "      <td>REST API Design Rulebook</td>\n",
       "      <td>Mark Masse</td>\n",
       "      <td>Paperback,– 7 Nov 2011</td>\n",
       "      <td>5.0</td>\n",
       "      <td>NaN</td>\n",
       "      <td>In todays market, where rival web services com...</td>\n",
       "      <td>Computing, Internet &amp; Digital Media (Books)</td>\n",
       "      <td>Computing, Internet &amp; Digital Media</td>\n",
       "      <td>5.786897</td>\n",
       "    </tr>\n",
       "    <tr>\n",
       "      <th>5856</th>\n",
       "      <td>The Atlantropa Articles: A Novel</td>\n",
       "      <td>Cody Franklin</td>\n",
       "      <td>Paperback,– Import, 1 Nov 2018</td>\n",
       "      <td>4.5</td>\n",
       "      <td>2.0</td>\n",
       "      <td>#1 Amazon Best Seller! Dystopian Alternate His...</td>\n",
       "      <td>Action &amp; Adventure (Books)</td>\n",
       "      <td>Romance</td>\n",
       "      <td>6.893656</td>\n",
       "    </tr>\n",
       "    <tr>\n",
       "      <th>4137</th>\n",
       "      <td>Hickory Dickory Dock (Poirot)</td>\n",
       "      <td>Agatha Christie</td>\n",
       "      <td>Paperback,– 5 Oct 2017</td>\n",
       "      <td>4.3</td>\n",
       "      <td>21.0</td>\n",
       "      <td>There’s more than petty theft going on in a Lo...</td>\n",
       "      <td>Action &amp; Adventure (Books)</td>\n",
       "      <td>Crime, Thriller &amp; Mystery</td>\n",
       "      <td>5.192957</td>\n",
       "    </tr>\n",
       "    <tr>\n",
       "      <th>3205</th>\n",
       "      <td>The Stanley Kubrick Archives (Bibliotheca Univ...</td>\n",
       "      <td>Alison Castle</td>\n",
       "      <td>Hardcover,– 21 Aug 2016</td>\n",
       "      <td>4.6</td>\n",
       "      <td>3.0</td>\n",
       "      <td>In 1968, when Stanley Kubrick was asked to com...</td>\n",
       "      <td>Cinema &amp; Broadcast (Books)</td>\n",
       "      <td>Humour</td>\n",
       "      <td>6.889591</td>\n",
       "    </tr>\n",
       "  </tbody>\n",
       "</table>\n",
       "</div>"
      ],
      "text/plain": [
       "                                                  Title           Author  \\\n",
       "949                                       Furious Hours        Casey Cep   \n",
       "5504                           REST API Design Rulebook       Mark Masse   \n",
       "5856                   The Atlantropa Articles: A Novel    Cody Franklin   \n",
       "4137                      Hickory Dickory Dock (Poirot)  Agatha Christie   \n",
       "3205  The Stanley Kubrick Archives (Bibliotheca Univ...    Alison Castle   \n",
       "\n",
       "                             Edition  Reviews  Ratings  \\\n",
       "949           Paperback,– 1 Jun 2019      4.0      NaN   \n",
       "5504          Paperback,– 7 Nov 2011      5.0      NaN   \n",
       "5856  Paperback,– Import, 1 Nov 2018      4.5      2.0   \n",
       "4137          Paperback,– 5 Oct 2017      4.3     21.0   \n",
       "3205         Hardcover,– 21 Aug 2016      4.6      3.0   \n",
       "\n",
       "                                               Synopsis  \\\n",
       "949   ‘It’s been a long time since I picked up a boo...   \n",
       "5504  In todays market, where rival web services com...   \n",
       "5856  #1 Amazon Best Seller! Dystopian Alternate His...   \n",
       "4137  There’s more than petty theft going on in a Lo...   \n",
       "3205  In 1968, when Stanley Kubrick was asked to com...   \n",
       "\n",
       "                                            Genre  \\\n",
       "949                         True Accounts (Books)   \n",
       "5504  Computing, Internet & Digital Media (Books)   \n",
       "5856                   Action & Adventure (Books)   \n",
       "4137                   Action & Adventure (Books)   \n",
       "3205                   Cinema & Broadcast (Books)   \n",
       "\n",
       "                              BookCategory     Price  \n",
       "949   Biographies, Diaries & True Accounts  5.743003  \n",
       "5504   Computing, Internet & Digital Media  5.786897  \n",
       "5856                               Romance  6.893656  \n",
       "4137             Crime, Thriller & Mystery  5.192957  \n",
       "3205                                Humour  6.889591  "
      ]
     },
     "execution_count": 4,
     "metadata": {},
     "output_type": "execute_result"
    }
   ],
   "source": [
    "def preprocess(df):\n",
    "    df = df.copy(deep=True)\n",
    "    df.loc[:, 'Reviews'] = pd.to_numeric(df['Reviews'].apply(lambda ele: ele[:-len(' out of 5 stars')]))\n",
    "    df.loc[:, 'Ratings'] = pd.to_numeric(df['Ratings'].apply(lambda ele: ele.replace(',', '')[:-len(' customer reviews')]))\n",
    "    df.loc[:, 'Price'] = np.log(df['Price'] + 1)\n",
    "    return df\n",
    "\n",
    "\n",
    "train_subsample_size = 1500  # subsample for faster demo, you can try setting to larger values\n",
    "test_subsample_size = 5\n",
    "train_df = preprocess(train_df)\n",
    "train_data = train_df.iloc[100:].sample(train_subsample_size, random_state=123)\n",
    "test_data = train_df.iloc[:100].sample(test_subsample_size, random_state=245)\n",
    "train_data.head()"
   ]
  },
  {
   "cell_type": "markdown",
   "id": "marine-genre",
   "metadata": {},
   "source": [
    "## Training\n",
    "\n",
    "We can simply create a TextPredictor and call `predictor.fit()` to train a model that operates on across all types of features. Internally, the neural network will be automatically generated based on the inferred data type of each feature column. To save time, we subsample the data and only train for three minutes."
   ]
  },
  {
   "cell_type": "code",
   "execution_count": 5,
   "id": "resident-burst",
   "metadata": {},
   "outputs": [
    {
     "name": "stderr",
     "output_type": "stream",
     "text": [
      "Warning: path already exists! This predictor may overwrite an existing predictor! path=\"ag_text_book_price_prediction\"\n",
      "INFO:root:NumPy-shape semantics has been activated in your code. This is required for creating and manipulating scalar and zero-size tensors, which were not supported in MXNet before, as in the official NumPy library. Please DO NOT manually deactivate this semantics while using `mxnet.numpy` and `mxnet.numpy_extension` modules.\n",
      "INFO:autogluon.text.text_prediction.mx.models:The GluonNLP V0 backend is used. We will use 8 cpus and 1 gpus to train each trial.\n"
     ]
    },
    {
     "name": "stdout",
     "output_type": "stream",
     "text": [
      "All Logs will be saved to /home/ec2-user/SageMaker/ag_text_book_price_prediction/task0/training.log\n"
     ]
    },
    {
     "name": "stderr",
     "output_type": "stream",
     "text": [
      "INFO:root:Fitting and transforming the train data...\n",
      "INFO:root:Done! Preprocessor saved to /home/ec2-user/SageMaker/ag_text_book_price_prediction/task0/preprocessor.pkl\n",
      "INFO:root:Process dev set...\n",
      "INFO:root:Done!\n",
      "INFO:root:Max length for chunking text: 480, Stochastic chunk: Train-False/Test-False, Test #repeat: 1.\n",
      "INFO:root:#Total Params/Fixed Params=109338913/0\n",
      "Level 15:root:Using gradient accumulation. Global batch size = 128\n",
      "INFO:root:Local training results will be saved to /home/ec2-user/SageMaker/ag_text_book_price_prediction/task0/results_local.jsonl.\n",
      "Level 15:root:[Iter 1/100, Epoch 0] train loss=2.59e+00, gnorm=6.77e+01, lr=1.00e-05, #samples processed=128, #sample per second=23.72. ETA=8.90min\n",
      "Level 15:root:[Iter 2/100, Epoch 0] train loss=1.96e+00, gnorm=3.61e+01, lr=2.00e-05, #samples processed=128, #sample per second=25.94. ETA=8.44min\n",
      "Level 25:root:[Iter 2/100, Epoch 0] valid r2=-8.5137e-01, root_mean_squared_error=1.0945e+00, mean_absolute_error=9.1826e-01, time spent=3.442s, total time spent=0.33min. Find new best=True, Find new top-3=True\n",
      "Level 15:root:[Iter 3/100, Epoch 0] train loss=2.02e+00, gnorm=4.04e+01, lr=3.00e-05, #samples processed=128, #sample per second=8.97. ETA=13.26min\n",
      "Level 15:root:[Iter 4/100, Epoch 0] train loss=2.93e+00, gnorm=7.05e+01, lr=4.00e-05, #samples processed=128, #sample per second=27.57. ETA=11.70min\n",
      "Level 25:root:[Iter 4/100, Epoch 0] valid r2=-6.0863e-01, root_mean_squared_error=1.0202e+00, mean_absolute_error=8.6493e-01, time spent=3.057s, total time spent=0.64min. Find new best=True, Find new top-3=True\n",
      "Level 15:root:[Iter 5/100, Epoch 0] train loss=1.94e+00, gnorm=4.68e+01, lr=5.00e-05, #samples processed=128, #sample per second=9.39. ETA=13.58min\n",
      "Level 15:root:[Iter 6/100, Epoch 0] train loss=9.37e-01, gnorm=1.88e+01, lr=6.00e-05, #samples processed=128, #sample per second=30.54. ETA=12.29min\n",
      "Level 25:root:[Iter 6/100, Epoch 0] valid r2=-3.9067e-01, root_mean_squared_error=9.4860e-01, mean_absolute_error=7.4716e-01, time spent=3.061s, total time spent=0.93min. Find new best=True, Find new top-3=True\n",
      "Level 15:root:[Iter 7/100, Epoch 0] train loss=1.51e+00, gnorm=2.95e+01, lr=7.00e-05, #samples processed=128, #sample per second=9.69. ETA=13.35min\n",
      "Level 15:root:[Iter 8/100, Epoch 0] train loss=1.08e+00, gnorm=4.57e+00, lr=8.00e-05, #samples processed=128, #sample per second=26.31. ETA=12.49min\n",
      "Level 25:root:[Iter 8/100, Epoch 0] valid r2=1.5017e-01, root_mean_squared_error=7.4154e-01, mean_absolute_error=5.8482e-01, time spent=3.067s, total time spent=1.23min. Find new best=True, Find new top-3=True\n",
      "Level 15:root:[Iter 9/100, Epoch 0] train loss=7.26e-01, gnorm=1.38e+01, lr=9.00e-05, #samples processed=128, #sample per second=9.91. ETA=13.16min\n",
      "Level 15:root:[Iter 10/100, Epoch 0] train loss=1.09e+00, gnorm=6.51e+00, lr=1.00e-04, #samples processed=128, #sample per second=25.21. ETA=12.47min\n",
      "Level 25:root:[Iter 10/100, Epoch 0] valid r2=2.6228e-01, root_mean_squared_error=6.9091e-01, mean_absolute_error=5.2559e-01, time spent=3.062s, total time spent=1.53min. Find new best=True, Find new top-3=True\n",
      "Level 15:root:[Iter 11/100, Epoch 1] train loss=9.40e-01, gnorm=2.82e+00, lr=9.89e-05, #samples processed=128, #sample per second=9.53. ETA=13.02min\n",
      "Level 15:root:[Iter 12/100, Epoch 1] train loss=7.22e-01, gnorm=2.66e+00, lr=9.78e-05, #samples processed=128, #sample per second=27.03. ETA=12.38min\n",
      "Level 25:root:[Iter 12/100, Epoch 1] valid r2=2.4535e-01, root_mean_squared_error=6.9878e-01, mean_absolute_error=5.3575e-01, time spent=3.063s, total time spent=1.78min. Find new best=False, Find new top-3=True\n",
      "Level 15:root:[Iter 13/100, Epoch 1] train loss=8.45e-01, gnorm=7.07e+00, lr=9.67e-05, #samples processed=128, #sample per second=11.86. ETA=12.50min\n",
      "Level 15:root:[Iter 14/100, Epoch 1] train loss=9.49e-01, gnorm=8.26e+00, lr=9.56e-05, #samples processed=128, #sample per second=31.96. ETA=11.89min\n",
      "Level 25:root:[Iter 14/100, Epoch 1] valid r2=3.0025e-01, root_mean_squared_error=6.7289e-01, mean_absolute_error=5.1288e-01, time spent=3.470s, total time spent=2.09min. Find new best=True, Find new top-3=True\n",
      "Level 15:root:[Iter 15/100, Epoch 1] train loss=8.55e-01, gnorm=4.51e+00, lr=9.44e-05, #samples processed=128, #sample per second=9.25. ETA=12.27min\n",
      "Level 15:root:[Iter 16/100, Epoch 1] train loss=8.22e-01, gnorm=1.01e+01, lr=9.33e-05, #samples processed=128, #sample per second=29.15. ETA=11.75min\n",
      "Level 25:root:[Iter 16/100, Epoch 1] valid r2=2.9368e-01, root_mean_squared_error=6.7604e-01, mean_absolute_error=5.2047e-01, time spent=3.079s, total time spent=2.33min. Find new best=False, Find new top-3=True\n",
      "Level 15:root:[Iter 17/100, Epoch 1] train loss=6.81e-01, gnorm=5.81e+00, lr=9.22e-05, #samples processed=128, #sample per second=12.66. ETA=11.75min\n",
      "Level 15:root:[Iter 18/100, Epoch 1] train loss=7.49e-01, gnorm=2.29e+00, lr=9.11e-05, #samples processed=128, #sample per second=28.78. ETA=11.31min\n",
      "Level 25:root:[Iter 18/100, Epoch 1] valid r2=1.7969e-01, root_mean_squared_error=7.2855e-01, mean_absolute_error=5.3950e-01, time spent=3.076s, total time spent=2.53min. Find new best=False, Find new top-3=False\n",
      "Level 15:root:[Iter 19/100, Epoch 1] train loss=8.55e-01, gnorm=9.29e+00, lr=9.00e-05, #samples processed=128, #sample per second=16.04. ETA=11.15min\n",
      "Level 15:root:[Iter 20/100, Epoch 1] train loss=7.69e-01, gnorm=3.65e+00, lr=8.89e-05, #samples processed=128, #sample per second=31.62. ETA=10.73min\n",
      "Level 25:root:[Iter 20/100, Epoch 1] valid r2=2.6385e-01, root_mean_squared_error=6.9017e-01, mean_absolute_error=5.3752e-01, time spent=3.068s, total time spent=2.78min. Find new best=False, Find new top-3=True\n",
      "Level 15:root:[Iter 21/100, Epoch 2] train loss=9.53e-01, gnorm=9.40e+00, lr=8.78e-05, #samples processed=128, #sample per second=12.77. ETA=10.72min\n",
      "Level 15:root:[Iter 22/100, Epoch 2] train loss=9.04e-01, gnorm=1.07e+01, lr=8.67e-05, #samples processed=128, #sample per second=29.29. ETA=10.36min\n",
      "Level 25:root:[Iter 22/100, Epoch 2] valid r2=3.3476e-01, root_mean_squared_error=6.5609e-01, mean_absolute_error=4.8412e-01, time spent=3.077s, total time spent=3.07min. Find new best=True, Find new top-3=True\n"
     ]
    },
    {
     "data": {
      "image/png": "[encoded data removed]",
      "text/plain": [
       "<Figure size 432x288 with 1 Axes>"
      ]
     },
     "metadata": {
      "needs_background": "light"
     },
     "output_type": "display_data"
    },
    {
     "name": "stderr",
     "output_type": "stream",
     "text": [
      "INFO:root:Training completed. Auto-saving to \"ag_text_book_price_prediction/\". For loading the model, you can use `predictor = TextPredictor.load(\"ag_text_book_price_prediction/\")`\n"
     ]
    },
    {
     "data": {
      "text/plain": [
       "<autogluon.text.text_prediction.predictor.predictor.TextPredictor at 0x7ff7da465048>"
      ]
     },
     "execution_count": 5,
     "metadata": {},
     "output_type": "execute_result"
    }
   ],
   "source": [
    "from autogluon.text import TextPredictor\n",
    "time_limit = 3 * 60  # set to larger value in your applications\n",
    "predictor = TextPredictor(label='Price', path='ag_text_book_price_prediction')\n",
    "predictor.fit(train_data, time_limit=time_limit)"
   ]
  },
  {
   "cell_type": "markdown",
   "id": "second-adobe",
   "metadata": {},
   "source": [
    "## Prediction\n",
    "\n",
    "We can easily obtain predictions and extract data embeddings using the TextPredictor."
   ]
  },
  {
   "cell_type": "code",
   "execution_count": 6,
   "id": "decent-mainland",
   "metadata": {},
   "outputs": [
    {
     "name": "stdout",
     "output_type": "stream",
     "text": [
      "Predictions:\n",
      "------------\n",
      "1     379.644348\n",
      "31    501.940033\n",
      "19    777.077087\n",
      "45    696.023254\n",
      "82    719.594971\n",
      "Name: Price, dtype: float32\n",
      "\n",
      "True Value:\n",
      "------------\n",
      "1     202.93\n",
      "31    799.00\n",
      "19    352.00\n",
      "45    395.10\n",
      "82    409.00\n",
      "Name: Price, dtype: float64\n"
     ]
    }
   ],
   "source": [
    "predictions = predictor.predict(test_data)\n",
    "print('Predictions:')\n",
    "print('------------')\n",
    "print(np.exp(predictions) - 1)\n",
    "print()\n",
    "print('True Value:')\n",
    "print('------------')\n",
    "print(np.exp(test_data['Price']) - 1)"
   ]
  },
  {
   "cell_type": "code",
   "execution_count": 7,
   "id": "backed-lincoln",
   "metadata": {},
   "outputs": [
    {
     "name": "stdout",
     "output_type": "stream",
     "text": [
      "0.6110616326332092\n"
     ]
    }
   ],
   "source": [
    "performance = predictor.evaluate(test_data)\n",
    "print(performance)"
   ]
  },
  {
   "cell_type": "code",
   "execution_count": 8,
   "id": "compatible-thanks",
   "metadata": {},
   "outputs": [
    {
     "name": "stdout",
     "output_type": "stream",
     "text": [
      "[[ 0.03847877  0.61906475 -0.5000607  ...  0.16537136 -0.02312354\n",
      "  -0.01483897]\n",
      " [ 0.1159624   0.6617308  -0.35742673 ...  0.05477808  0.02060554\n",
      "  -0.03079564]\n",
      " [ 0.08874278  0.6831325  -0.40776396 ... -0.45953295  0.40670896\n",
      "   0.23620553]\n",
      " [ 0.06456596  0.6556821  -0.41806728 ... -0.0819485   0.08949058\n",
      "   0.4200689 ]\n",
      " [ 0.0751583   0.6933143  -0.55531085 ...  0.04326446 -0.02155675\n",
      "   0.29913387]]\n"
     ]
    }
   ],
   "source": [
    "embeddings = predictor.extract_embedding(test_data)\n",
    "print(embeddings)"
   ]
  },
  {
   "cell_type": "markdown",
   "id": "efficient-conviction",
   "metadata": {},
   "source": [
    "## What's happening inside?\n",
    "\n",
    "Internally, we use different networks to encode the text columns, categorical columns, and numerical columns. The features generated by individual networks are aggregated by a late-fusion aggregator. The aggregator can output both the logits or score predictions. The architecture can be illustrated as follows:\n",
    "\n",
    "![Multimodal Network with Late Fusion](https://autogluon-text-data.s3.amazonaws.com/figures/fuse-late.png)\n",
    "\n",
    "Here, we use the pretrained NLP backbone to extract the text features and then use two other towers to extract the feature from categorical column and the numerical column.\n",
    "\n",
    "In addition, to deal with multiple text fields, we separate these fields with the `[SEP]` token and alternate 0s and 1s as the segment IDs, which is shown as follows:\n",
    "\n",
    "![Preprocessing](https://autogluon-text-data.s3.amazonaws.com/figures/preprocess.png)"
   ]
  },
  {
   "cell_type": "markdown",
   "id": "gentle-charge",
   "metadata": {},
   "source": [
    "## How does this compare with TabularPredictor?\n",
    "\n",
    "Note that `TabularPredictor` can also handle data tables with text, numeric, and categorical columns, but it uses an ensemble of many types of models and may featurize text. `TextPredictor` instead directly fits individual Transformer neural network models directly to the raw text (which are also capable of handling additional numeric/categorical columns). We generally recommend TabularPredictor if your table contains mainly numeric/categorical columns and TextPredictor if your table contains mainly text columns, but you may easily try both and we encourage this. In fact, `TabularPredictor.fit(..., hyperparameters='multimodal')` will train a TextPredictor along with many tabular models and ensemble them together. Refer to our next tutorial for more details."
   ]
  },
  {
   "cell_type": "markdown",
   "id": "latest-writing",
   "metadata": {},
   "source": [
    "## Other Examples\n",
    "\n",
    "You may go to https://github.com/awslabs/autogluon/tree/master/examples/text_prediction to explore other TextPredictor examples, including scripts to train a TextPredictor on the complete book price prediction dataset."
   ]
  }
 ],
 "metadata": {
  "kernelspec": {
   "display_name": "conda_python3",
   "language": "python",
   "name": "conda_python3"
  },
  "language_info": {
   "codemirror_mode": {
    "name": "ipython",
    "version": 3
   },
   "file_extension": ".py",
   "mimetype": "text/x-python",
   "name": "python",
   "nbconvert_exporter": "python",
   "pygments_lexer": "ipython3",
   "version": "3.6.13"
  }
 },
 "nbformat": 4,
 "nbformat_minor": 5
}
