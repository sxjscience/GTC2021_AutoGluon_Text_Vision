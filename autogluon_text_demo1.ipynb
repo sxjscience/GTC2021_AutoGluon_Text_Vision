{
 "cells": [
  {
   "cell_type": "markdown",
   "id": "twenty-aruba",
   "metadata": {},
   "source": [
    "# AutoGluon Text - Quick Start with Sentiment Analysis"
   ]
  },
  {
   "cell_type": "markdown",
   "id": "psychological-november",
   "metadata": {},
   "source": [
    "In the following example, we will briefly demonstrate the usage of TextPredictor, and apply it on a sentiment classification dataset."
   ]
  },
  {
   "cell_type": "code",
   "execution_count": 1,
   "id": "mature-monitoring",
   "metadata": {},
   "outputs": [],
   "source": [
    "%matplotlib inline\n",
    "\n",
    "import numpy as np\n",
    "import warnings\n",
    "import matplotlib.pyplot as plt\n",
    "warnings.filterwarnings('ignore')\n",
    "np.random.seed(123)"
   ]
  },
  {
   "cell_type": "markdown",
   "id": "breeding-practice",
   "metadata": {},
   "source": [
    "We will use the Stanford Sentiment Treebank ([SST](https://nlp.stanford.edu/sentiment/)) dataset, which consists of movie reviews and their associated sentiment. Given a new movie review, the goal is to predict the sentiment reflected in the text (in this case a **binary classification**, where reviews are labeled as 1 if they convey a positive opinion and labeled as 0 otherwise). Let's first load and look at the data, noting the labels are stored in a column called **label**. Here, for a quick demonstration, we will sample 1000 rows.\n"
   ]
  },
  {
   "cell_type": "code",
   "execution_count": 2,
   "id": "respective-yukon",
   "metadata": {},
   "outputs": [
    {
     "data": {
      "text/html": [
       "<div>\n",
       "<style scoped>\n",
       "    .dataframe tbody tr th:only-of-type {\n",
       "        vertical-align: middle;\n",
       "    }\n",
       "\n",
       "    .dataframe tbody tr th {\n",
       "        vertical-align: top;\n",
       "    }\n",
       "\n",
       "    .dataframe thead th {\n",
       "        text-align: right;\n",
       "    }\n",
       "</style>\n",
       "<table border=\"1\" class=\"dataframe\">\n",
       "  <thead>\n",
       "    <tr style=\"text-align: right;\">\n",
       "      <th></th>\n",
       "      <th>sentence</th>\n",
       "      <th>label</th>\n",
       "    </tr>\n",
       "  </thead>\n",
       "  <tbody>\n",
       "    <tr>\n",
       "      <th>43787</th>\n",
       "      <td>very pleasing at its best moments</td>\n",
       "      <td>1</td>\n",
       "    </tr>\n",
       "    <tr>\n",
       "      <th>16159</th>\n",
       "      <td>, american chai is enough to make you put away...</td>\n",
       "      <td>0</td>\n",
       "    </tr>\n",
       "    <tr>\n",
       "      <th>59015</th>\n",
       "      <td>too much like an infomercial for ram dass 's l...</td>\n",
       "      <td>0</td>\n",
       "    </tr>\n",
       "    <tr>\n",
       "      <th>5108</th>\n",
       "      <td>a stirring visual sequence</td>\n",
       "      <td>1</td>\n",
       "    </tr>\n",
       "    <tr>\n",
       "      <th>67052</th>\n",
       "      <td>cool visual backmasking</td>\n",
       "      <td>1</td>\n",
       "    </tr>\n",
       "    <tr>\n",
       "      <th>35938</th>\n",
       "      <td>hard ground</td>\n",
       "      <td>0</td>\n",
       "    </tr>\n",
       "    <tr>\n",
       "      <th>49879</th>\n",
       "      <td>the striking , quietly vulnerable personality ...</td>\n",
       "      <td>1</td>\n",
       "    </tr>\n",
       "    <tr>\n",
       "      <th>51591</th>\n",
       "      <td>pan nalin 's exposition is beautiful and myste...</td>\n",
       "      <td>1</td>\n",
       "    </tr>\n",
       "    <tr>\n",
       "      <th>56780</th>\n",
       "      <td>wonderfully loopy</td>\n",
       "      <td>1</td>\n",
       "    </tr>\n",
       "    <tr>\n",
       "      <th>28518</th>\n",
       "      <td>most beautiful , evocative</td>\n",
       "      <td>1</td>\n",
       "    </tr>\n",
       "  </tbody>\n",
       "</table>\n",
       "</div>"
      ],
      "text/plain": [
       "                                                sentence  label\n",
       "43787                 very pleasing at its best moments       1\n",
       "16159  , american chai is enough to make you put away...      0\n",
       "59015  too much like an infomercial for ram dass 's l...      0\n",
       "5108                         a stirring visual sequence       1\n",
       "67052                           cool visual backmasking       1\n",
       "35938                                       hard ground       0\n",
       "49879  the striking , quietly vulnerable personality ...      1\n",
       "51591  pan nalin 's exposition is beautiful and myste...      1\n",
       "56780                                 wonderfully loopy       1\n",
       "28518                        most beautiful , evocative       1"
      ]
     },
     "execution_count": 2,
     "metadata": {},
     "output_type": "execute_result"
    }
   ],
   "source": [
    "from autogluon.core.utils.loaders.load_pd import load\n",
    "train_data = load('https://autogluon-text.s3-accelerate.amazonaws.com/glue/sst/train.parquet')\n",
    "test_data = load('https://autogluon-text.s3-accelerate.amazonaws.com/glue/sst/dev.parquet')\n",
    "subsample_size = 1000  # subsample data for faster demo, try setting this to larger values\n",
    "train_data = train_data.sample(n=subsample_size, random_state=0)\n",
    "train_data.head(10)"
   ]
  },
  {
   "cell_type": "markdown",
   "id": "prompt-fluid",
   "metadata": {},
   "source": [
    "The data above happen to be stored in a [Parquet](https://databricks.com/glossary/what-is-parquet) table format, but you can also directly `load()` data from a [CSV](https://en.wikipedia.org/wiki/Comma-separated_values) file instead. While here we load files from [AWS S3 cloud storage](https://docs.aws.amazon.com/AmazonS3/latest/dev/Welcome.html), these could instead be local files on your machine. After loading, `train_data` is simply a [Pandas DataFrame](https://pandas.pydata.org/pandas-docs/stable/reference/api/pandas.DataFrame.html), where each row represents a different training example (for machine learning to be appropriate, the rows should be independent and identically distributed)."
   ]
  },
  {
   "cell_type": "markdown",
   "id": "honey-setup",
   "metadata": {},
   "source": [
    "## Training"
   ]
  },
  {
   "cell_type": "markdown",
   "id": "fourth-destiny",
   "metadata": {},
   "source": [
    "To ensure this tutorial runs quickly, we simply call `fit()` with a subset of 1000 training examples and limit its runtime to approximately 90 seconds.\n",
    "To achieve reasonable performance in your applications, you are recommended to set much longer `time_limit` (eg. 1 hour), or do not specify `time_limit` at all (`time_limit=None`)."
   ]
  },
  {
   "cell_type": "code",
   "execution_count": 3,
   "id": "hidden-estate",
   "metadata": {},
   "outputs": [
    {
     "name": "stderr",
     "output_type": "stream",
     "text": [
      "Warning: path already exists! This predictor may overwrite an existing predictor! path=\"./ag_sst\"\n",
      "INFO:root:NumPy-shape semantics has been activated in your code. This is required for creating and manipulating scalar and zero-size tensors, which were not supported in MXNet before, as in the official NumPy library. Please DO NOT manually deactivate this semantics while using `mxnet.numpy` and `mxnet.numpy_extension` modules.\n",
      "INFO:autogluon.text.text_prediction.mx.models:The GluonNLP V0 backend is used. We will use 8 cpus and 1 gpus to train each trial.\n"
     ]
    },
    {
     "name": "stdout",
     "output_type": "stream",
     "text": [
      "All Logs will be saved to /home/ec2-user/SageMaker/ag_sst/task0/training.log\n"
     ]
    },
    {
     "name": "stderr",
     "output_type": "stream",
     "text": [
      "INFO:root:Fitting and transforming the train data...\n",
      "INFO:root:Done! Preprocessor saved to /home/ec2-user/SageMaker/ag_sst/task0/preprocessor.pkl\n",
      "INFO:root:Process dev set...\n",
      "INFO:root:Done!\n",
      "INFO:root:Max length for chunking text: 64, Stochastic chunk: Train-False/Test-False, Test #repeat: 1.\n",
      "INFO:root:#Total Params/Fixed Params=108990466/0\n",
      "Level 15:root:Using gradient accumulation. Global batch size = 128\n",
      "INFO:root:Local training results will be saved to /home/ec2-user/SageMaker/ag_sst/task0/results_local.jsonl.\n",
      "Level 15:root:[Iter 1/70, Epoch 0] train loss=9.45e-01, gnorm=8.10e+00, lr=1.43e-05, #samples processed=128, #sample per second=78.22. ETA=1.88min\n",
      "Level 15:root:[Iter 2/70, Epoch 0] train loss=7.89e-01, gnorm=1.14e+01, lr=2.86e-05, #samples processed=128, #sample per second=162.68. ETA=1.37min\n",
      "Level 25:root:[Iter 2/70, Epoch 0] valid f1=7.2026e-01, mcc=1.3177e-02, roc_auc=4.2102e-01, accuracy=5.6500e-01, log_loss=9.6348e-01, time spent=0.308s, total time spent=0.14min. Find new best=True, Find new top-3=True\n",
      "Level 15:root:[Iter 3/70, Epoch 0] train loss=1.13e+00, gnorm=1.39e+01, lr=4.29e-05, #samples processed=128, #sample per second=18.41. ETA=3.49min\n",
      "Level 15:root:[Iter 4/70, Epoch 0] train loss=1.01e+00, gnorm=1.24e+01, lr=5.71e-05, #samples processed=128, #sample per second=190.58. ETA=2.76min\n",
      "Level 25:root:[Iter 4/70, Epoch 0] valid f1=2.6950e-01, mcc=9.2430e-02, roc_auc=6.1560e-01, accuracy=4.8500e-01, log_loss=8.8452e-01, time spent=0.305s, total time spent=0.22min. Find new best=False, Find new top-3=True\n",
      "Level 15:root:[Iter 5/70, Epoch 0] train loss=8.46e-01, gnorm=1.13e+01, lr=7.14e-05, #samples processed=128, #sample per second=35.67. ETA=2.96min\n",
      "Level 15:root:[Iter 6/70, Epoch 0] train loss=7.14e-01, gnorm=4.00e+00, lr=8.57e-05, #samples processed=128, #sample per second=186.07. ETA=2.55min\n",
      "Level 25:root:[Iter 6/70, Epoch 0] valid f1=7.2204e-01, mcc=0.0000e+00, roc_auc=7.0461e-01, accuracy=5.6500e-01, log_loss=8.3714e-01, time spent=0.296s, total time spent=0.34min. Find new best=True, Find new top-3=True\n",
      "Level 15:root:[Iter 7/70, Epoch 0] train loss=9.37e-01, gnorm=9.50e+00, lr=1.00e-04, #samples processed=128, #sample per second=18.92. ETA=3.16min\n",
      "Level 15:root:[Iter 8/70, Epoch 1] train loss=5.64e-01, gnorm=8.08e+00, lr=9.84e-05, #samples processed=128, #sample per second=205.88. ETA=2.81min\n",
      "Level 25:root:[Iter 8/70, Epoch 1] valid f1=5.2830e-01, mcc=3.8369e-01, roc_auc=8.4579e-01, accuracy=6.2500e-01, log_loss=6.2293e-01, time spent=0.298s, total time spent=0.46min. Find new best=True, Find new top-3=True\n",
      "Level 15:root:[Iter 9/70, Epoch 1] train loss=6.57e-01, gnorm=1.48e+01, lr=9.68e-05, #samples processed=128, #sample per second=18.90. ETA=3.22min\n",
      "Level 15:root:[Iter 10/70, Epoch 1] train loss=6.27e-01, gnorm=6.42e+00, lr=9.52e-05, #samples processed=128, #sample per second=201.78. ETA=2.91min\n",
      "Level 25:root:[Iter 10/70, Epoch 1] valid f1=7.7256e-01, mcc=3.7645e-01, roc_auc=8.6156e-01, accuracy=6.8500e-01, log_loss=5.5589e-01, time spent=0.297s, total time spent=0.59min. Find new best=True, Find new top-3=True\n",
      "Level 15:root:[Iter 11/70, Epoch 1] train loss=6.29e-01, gnorm=7.05e+00, lr=9.37e-05, #samples processed=128, #sample per second=19.09. ETA=3.20min\n",
      "Level 15:root:[Iter 12/70, Epoch 1] train loss=4.92e-01, gnorm=5.80e+00, lr=9.21e-05, #samples processed=128, #sample per second=201.69. ETA=2.94min\n",
      "Level 25:root:[Iter 12/70, Epoch 1] valid f1=8.5990e-01, mcc=7.2525e-01, roc_auc=9.4009e-01, accuracy=8.5500e-01, log_loss=3.6514e-01, time spent=0.296s, total time spent=0.71min. Find new best=True, Find new top-3=True\n",
      "Level 15:root:[Iter 13/70, Epoch 1] train loss=4.45e-01, gnorm=5.92e+00, lr=9.05e-05, #samples processed=128, #sample per second=19.09. ETA=3.16min\n",
      "Level 15:root:[Iter 14/70, Epoch 1] train loss=3.95e-01, gnorm=6.63e+00, lr=8.89e-05, #samples processed=128, #sample per second=211.45. ETA=2.92min\n",
      "Level 25:root:[Iter 14/70, Epoch 1] valid f1=8.9916e-01, mcc=7.5779e-01, roc_auc=9.3144e-01, accuracy=8.8000e-01, log_loss=3.3053e-01, time spent=0.297s, total time spent=0.83min. Find new best=True, Find new top-3=True\n",
      "Level 15:root:[Iter 15/70, Epoch 2] train loss=3.06e-01, gnorm=8.24e+00, lr=8.73e-05, #samples processed=128, #sample per second=19.11. ETA=3.08min\n",
      "Level 15:root:[Iter 16/70, Epoch 2] train loss=2.90e-01, gnorm=6.58e+00, lr=8.57e-05, #samples processed=128, #sample per second=192.22. ETA=2.88min\n",
      "Level 25:root:[Iter 16/70, Epoch 2] valid f1=8.8696e-01, mcc=7.3474e-01, roc_auc=9.4395e-01, accuracy=8.7000e-01, log_loss=3.4467e-01, time spent=0.299s, total time spent=0.90min. Find new best=False, Find new top-3=True\n",
      "INFO:numexpr.utils:NumExpr defaulting to 8 threads.\n"
     ]
    },
    {
     "data": {
      "image/png": "[encoded data removed]",
      "text/plain": [
       "<Figure size 432x288 with 1 Axes>"
      ]
     },
     "metadata": {
      "needs_background": "light"
     },
     "output_type": "display_data"
    },
    {
     "name": "stderr",
     "output_type": "stream",
     "text": [
      "INFO:root:Training completed. Auto-saving to \"./ag_sst/\". For loading the model, you can use `predictor = TextPredictor.load(\"./ag_sst/\")`\n"
     ]
    },
    {
     "data": {
      "text/plain": [
       "<autogluon.text.text_prediction.predictor.predictor.TextPredictor at 0x7f5a18542d30>"
      ]
     },
     "execution_count": 3,
     "metadata": {},
     "output_type": "execute_result"
    }
   ],
   "source": [
    "from autogluon.text import TextPredictor\n",
    "\n",
    "predictor = TextPredictor(label='label', eval_metric='acc', path='./ag_sst')\n",
    "predictor.fit(train_data, time_limit=60)"
   ]
  },
  {
   "cell_type": "markdown",
   "id": "warming-minutes",
   "metadata": {},
   "source": [
    "## Evaluation"
   ]
  },
  {
   "cell_type": "markdown",
   "id": "unexpected-steel",
   "metadata": {},
   "source": [
    "After training, we can easily evaluate our predictor on separate test data formatted similarly to our training data."
   ]
  },
  {
   "cell_type": "code",
   "execution_count": 4,
   "id": "searching-bread",
   "metadata": {},
   "outputs": [
    {
     "name": "stdout",
     "output_type": "stream",
     "text": [
      "Accuracy = 89.33%\n"
     ]
    }
   ],
   "source": [
    "test_score = predictor.evaluate(test_data)\n",
    "print('Accuracy = {:.2f}%'.format(test_score * 100))"
   ]
  },
  {
   "cell_type": "markdown",
   "id": "magnetic-thailand",
   "metadata": {},
   "source": [
    "By default, `evaluate()` will report the evaluation metric previously specified, which is `accuracy` in our example. You may also specify additional metrics, e.g. F1 score, when calling evaluate."
   ]
  },
  {
   "cell_type": "code",
   "execution_count": 5,
   "id": "soviet-jacket",
   "metadata": {},
   "outputs": [
    {
     "name": "stdout",
     "output_type": "stream",
     "text": [
      "{'acc': 0.893348623853211, 'f1': 0.8937142857142857}\n"
     ]
    }
   ],
   "source": [
    "test_score = predictor.evaluate(test_data, metrics=['acc', 'f1'])\n",
    "print(test_score)"
   ]
  },
  {
   "cell_type": "markdown",
   "id": "gentle-connection",
   "metadata": {},
   "source": [
    "# Prediction\n",
    "\n",
    "And you can easily obtain predictions from these models by calling `predictor.predict()`."
   ]
  },
  {
   "cell_type": "code",
   "execution_count": 6,
   "id": "cordless-claim",
   "metadata": {},
   "outputs": [
    {
     "name": "stdout",
     "output_type": "stream",
     "text": [
      "\"Sentence\": it's a charming and often affecting journey. \"Predicted Sentiment\": 1\n",
      "\"Sentence\": It's slow, very, very, very slow. \"Predicted Sentiment\": 0\n"
     ]
    }
   ],
   "source": [
    "sentence1 = \"it's a charming and often affecting journey.\"\n",
    "sentence2 = \"It's slow, very, very, very slow.\"\n",
    "predictions = predictor.predict({'sentence': [sentence1, sentence2]})\n",
    "print('\"Sentence\":', sentence1, '\"Predicted Sentiment\":', predictions[0])\n",
    "print('\"Sentence\":', sentence2, '\"Predicted Sentiment\":', predictions[1])"
   ]
  },
  {
   "cell_type": "markdown",
   "id": "handmade-asbestos",
   "metadata": {},
   "source": [
    "For classification tasks, you can ask for predicted class-probabilities instead of predicted classes."
   ]
  },
  {
   "cell_type": "code",
   "execution_count": 7,
   "id": "julian-spyware",
   "metadata": {},
   "outputs": [
    {
     "name": "stdout",
     "output_type": "stream",
     "text": [
      "\"Sentence\": it's a charming and often affecting journey. \"Predicted Class-Probabilities\": 0    0.012671\n",
      "1    0.888297\n",
      "Name: 0, dtype: float32\n",
      "\"Sentence\": It's slow, very, very, very slow. \"Predicted Class-Probabilities\": 0    0.987329\n",
      "1    0.111703\n",
      "Name: 1, dtype: float32\n"
     ]
    }
   ],
   "source": [
    "probs = predictor.predict_proba({'sentence': [sentence1, sentence2]})\n",
    "print('\"Sentence\":', sentence1, '\"Predicted Class-Probabilities\":', probs[0])\n",
    "print('\"Sentence\":', sentence2, '\"Predicted Class-Probabilities\":', probs[1])"
   ]
  },
  {
   "cell_type": "markdown",
   "id": "juvenile-responsibility",
   "metadata": {},
   "source": [
    "We can just as easily produce predictions over an entire dataset."
   ]
  },
  {
   "cell_type": "code",
   "execution_count": 8,
   "id": "turned-definition",
   "metadata": {},
   "outputs": [
    {
     "data": {
      "text/plain": [
       "0    1\n",
       "1    0\n",
       "2    1\n",
       "3    1\n",
       "4    0\n",
       "Name: label, dtype: int64"
      ]
     },
     "execution_count": 8,
     "metadata": {},
     "output_type": "execute_result"
    }
   ],
   "source": [
    "test_predictions = predictor.predict(test_data)\n",
    "test_predictions.head()"
   ]
  },
  {
   "cell_type": "markdown",
   "id": "consecutive-motivation",
   "metadata": {},
   "source": [
    "## Intermediate Training Results\n",
    "\n",
    "After training, you can explore intermediate training results in `predictor.results`."
   ]
  },
  {
   "cell_type": "code",
   "execution_count": 9,
   "id": "arabic-stuff",
   "metadata": {},
   "outputs": [
    {
     "data": {
      "text/html": [
       "<div>\n",
       "<style scoped>\n",
       "    .dataframe tbody tr th:only-of-type {\n",
       "        vertical-align: middle;\n",
       "    }\n",
       "\n",
       "    .dataframe tbody tr th {\n",
       "        vertical-align: top;\n",
       "    }\n",
       "\n",
       "    .dataframe thead th {\n",
       "        text-align: right;\n",
       "    }\n",
       "</style>\n",
       "<table border=\"1\" class=\"dataframe\">\n",
       "  <thead>\n",
       "    <tr style=\"text-align: right;\">\n",
       "      <th></th>\n",
       "      <th>iteration</th>\n",
       "      <th>report_idx</th>\n",
       "      <th>epoch</th>\n",
       "      <th>f1</th>\n",
       "      <th>mcc</th>\n",
       "      <th>roc_auc</th>\n",
       "      <th>accuracy</th>\n",
       "      <th>log_loss</th>\n",
       "      <th>find_better</th>\n",
       "      <th>find_new_topn</th>\n",
       "      <th>nbest_stat</th>\n",
       "      <th>elapsed_time</th>\n",
       "      <th>reward_attr</th>\n",
       "      <th>eval_metric</th>\n",
       "      <th>exp_dir</th>\n",
       "    </tr>\n",
       "  </thead>\n",
       "  <tbody>\n",
       "    <tr>\n",
       "      <th>6</th>\n",
       "      <td>14</td>\n",
       "      <td>7</td>\n",
       "      <td>1</td>\n",
       "      <td>0.899160</td>\n",
       "      <td>0.757789</td>\n",
       "      <td>0.931441</td>\n",
       "      <td>0.88</td>\n",
       "      <td>0.330533</td>\n",
       "      <td>True</td>\n",
       "      <td>True</td>\n",
       "      <td>[[0.685, 0.88, 0.855], [10, 14, 12]]</td>\n",
       "      <td>49</td>\n",
       "      <td>0.88</td>\n",
       "      <td>accuracy</td>\n",
       "      <td>/home/ec2-user/SageMaker/ag_sst/task0</td>\n",
       "    </tr>\n",
       "    <tr>\n",
       "      <th>7</th>\n",
       "      <td>16</td>\n",
       "      <td>8</td>\n",
       "      <td>2</td>\n",
       "      <td>0.886957</td>\n",
       "      <td>0.734739</td>\n",
       "      <td>0.943953</td>\n",
       "      <td>0.87</td>\n",
       "      <td>0.344672</td>\n",
       "      <td>False</td>\n",
       "      <td>True</td>\n",
       "      <td>[[0.87, 0.88, 0.855], [16, 14, 12]]</td>\n",
       "      <td>54</td>\n",
       "      <td>0.87</td>\n",
       "      <td>accuracy</td>\n",
       "      <td>/home/ec2-user/SageMaker/ag_sst/task0</td>\n",
       "    </tr>\n",
       "    <tr>\n",
       "      <th>8</th>\n",
       "      <td>14</td>\n",
       "      <td>9</td>\n",
       "      <td>1</td>\n",
       "      <td>0.899160</td>\n",
       "      <td>0.757789</td>\n",
       "      <td>0.931441</td>\n",
       "      <td>0.88</td>\n",
       "      <td>0.330533</td>\n",
       "      <td>True</td>\n",
       "      <td>True</td>\n",
       "      <td>[[0.685, 0.88, 0.855], [10, 14, 12]]</td>\n",
       "      <td>49</td>\n",
       "      <td>0.88</td>\n",
       "      <td>accuracy</td>\n",
       "      <td>/home/ec2-user/SageMaker/ag_sst/task0</td>\n",
       "    </tr>\n",
       "  </tbody>\n",
       "</table>\n",
       "</div>"
      ],
      "text/plain": [
       "   iteration  report_idx  epoch        f1       mcc   roc_auc  accuracy  \\\n",
       "6         14           7      1  0.899160  0.757789  0.931441      0.88   \n",
       "7         16           8      2  0.886957  0.734739  0.943953      0.87   \n",
       "8         14           9      1  0.899160  0.757789  0.931441      0.88   \n",
       "\n",
       "   log_loss  find_better  find_new_topn                            nbest_stat  \\\n",
       "6  0.330533         True           True  [[0.685, 0.88, 0.855], [10, 14, 12]]   \n",
       "7  0.344672        False           True   [[0.87, 0.88, 0.855], [16, 14, 12]]   \n",
       "8  0.330533         True           True  [[0.685, 0.88, 0.855], [10, 14, 12]]   \n",
       "\n",
       "   elapsed_time  reward_attr eval_metric  \\\n",
       "6            49         0.88    accuracy   \n",
       "7            54         0.87    accuracy   \n",
       "8            49         0.88    accuracy   \n",
       "\n",
       "                                 exp_dir  \n",
       "6  /home/ec2-user/SageMaker/ag_sst/task0  \n",
       "7  /home/ec2-user/SageMaker/ag_sst/task0  \n",
       "8  /home/ec2-user/SageMaker/ag_sst/task0  "
      ]
     },
     "execution_count": 9,
     "metadata": {},
     "output_type": "execute_result"
    }
   ],
   "source": [
    "predictor.results.tail(3)"
   ]
  },
  {
   "cell_type": "markdown",
   "id": "mysterious-printer",
   "metadata": {},
   "source": [
    "## Save and Load\n",
    "\n",
    "The trained predictor is automatically saved at the end of `fit()`, and you can easily reload it."
   ]
  },
  {
   "cell_type": "code",
   "execution_count": 10,
   "id": "compatible-flood",
   "metadata": {},
   "outputs": [
    {
     "data": {
      "text/html": [
       "<div>\n",
       "<style scoped>\n",
       "    .dataframe tbody tr th:only-of-type {\n",
       "        vertical-align: middle;\n",
       "    }\n",
       "\n",
       "    .dataframe tbody tr th {\n",
       "        vertical-align: top;\n",
       "    }\n",
       "\n",
       "    .dataframe thead th {\n",
       "        text-align: right;\n",
       "    }\n",
       "</style>\n",
       "<table border=\"1\" class=\"dataframe\">\n",
       "  <thead>\n",
       "    <tr style=\"text-align: right;\">\n",
       "      <th></th>\n",
       "      <th>0</th>\n",
       "      <th>1</th>\n",
       "    </tr>\n",
       "  </thead>\n",
       "  <tbody>\n",
       "    <tr>\n",
       "      <th>0</th>\n",
       "      <td>0.012671</td>\n",
       "      <td>0.987329</td>\n",
       "    </tr>\n",
       "    <tr>\n",
       "      <th>1</th>\n",
       "      <td>0.888297</td>\n",
       "      <td>0.111703</td>\n",
       "    </tr>\n",
       "  </tbody>\n",
       "</table>\n",
       "</div>"
      ],
      "text/plain": [
       "          0         1\n",
       "0  0.012671  0.987329\n",
       "1  0.888297  0.111703"
      ]
     },
     "execution_count": 10,
     "metadata": {},
     "output_type": "execute_result"
    }
   ],
   "source": [
    "loaded_predictor = TextPredictor.load('ag_sst')\n",
    "loaded_predictor.predict_proba({'sentence': [sentence1, sentence2]})"
   ]
  },
  {
   "cell_type": "markdown",
   "id": "boolean-louisville",
   "metadata": {},
   "source": [
    "You can also save the predictor to any location by calling `.save()`."
   ]
  },
  {
   "cell_type": "code",
   "execution_count": 11,
   "id": "gentle-paste",
   "metadata": {},
   "outputs": [
    {
     "data": {
      "text/html": [
       "<div>\n",
       "<style scoped>\n",
       "    .dataframe tbody tr th:only-of-type {\n",
       "        vertical-align: middle;\n",
       "    }\n",
       "\n",
       "    .dataframe tbody tr th {\n",
       "        vertical-align: top;\n",
       "    }\n",
       "\n",
       "    .dataframe thead th {\n",
       "        text-align: right;\n",
       "    }\n",
       "</style>\n",
       "<table border=\"1\" class=\"dataframe\">\n",
       "  <thead>\n",
       "    <tr style=\"text-align: right;\">\n",
       "      <th></th>\n",
       "      <th>0</th>\n",
       "      <th>1</th>\n",
       "    </tr>\n",
       "  </thead>\n",
       "  <tbody>\n",
       "    <tr>\n",
       "      <th>0</th>\n",
       "      <td>0.012671</td>\n",
       "      <td>0.987329</td>\n",
       "    </tr>\n",
       "    <tr>\n",
       "      <th>1</th>\n",
       "      <td>0.888297</td>\n",
       "      <td>0.111703</td>\n",
       "    </tr>\n",
       "  </tbody>\n",
       "</table>\n",
       "</div>"
      ],
      "text/plain": [
       "          0         1\n",
       "0  0.012671  0.987329\n",
       "1  0.888297  0.111703"
      ]
     },
     "execution_count": 11,
     "metadata": {},
     "output_type": "execute_result"
    }
   ],
   "source": [
    "loaded_predictor.save('my_saved_dir')\n",
    "loaded_predictor2 = TextPredictor.load('my_saved_dir')\n",
    "loaded_predictor2.predict_proba({'sentence': [sentence1, sentence2]})"
   ]
  },
  {
   "cell_type": "markdown",
   "id": "thrown-doctrine",
   "metadata": {},
   "source": [
    "## Extract Embeddings\n",
    "\n",
    "You can also use a trained predictor to extract embeddings that maps each row of the data table to an embedding vector extracted from intermediate neural network representations of the row."
   ]
  },
  {
   "cell_type": "code",
   "execution_count": 12,
   "id": "renewable-bankruptcy",
   "metadata": {},
   "outputs": [
    {
     "name": "stdout",
     "output_type": "stream",
     "text": [
      "[[-0.01822774 -0.06155895  0.13436177 ... -0.4454752   0.537465\n",
      "   0.38984144]\n",
      " [-0.14591864  0.5322923   0.29201877 ... -0.01443126  0.28827152\n",
      "   0.37132087]\n",
      " [ 0.19060715  0.12236104  0.52053577 ... -0.3293577   0.46647763\n",
      "   0.4387398 ]\n",
      " ...\n",
      " [ 0.24332397  0.15041006  0.46015418 ... -0.17658648  0.19947228\n",
      "   0.53865325]\n",
      " [ 0.48942107  0.3673211   0.00752563 ... -0.02179538  0.13347624\n",
      "   0.3706505 ]\n",
      " [-0.16765167  0.37639114  0.31317368 ... -0.40672117  0.11371957\n",
      "   0.3579047 ]]\n"
     ]
    }
   ],
   "source": [
    "embeddings = predictor.extract_embedding(test_data)\n",
    "print(embeddings)"
   ]
  },
  {
   "cell_type": "markdown",
   "id": "weekly-temperature",
   "metadata": {},
   "source": [
    "Here, we use TSNE to visualize these extracted embeddings. We can see that there are two clusters corresponding to our two labels, since this network has been trained to discriminate between these labels."
   ]
  },
  {
   "cell_type": "code",
   "execution_count": 13,
   "id": "alone-mozambique",
   "metadata": {},
   "outputs": [
    {
     "data": {
      "text/plain": [
       "<matplotlib.legend.Legend at 0x7f589e3da240>"
      ]
     },
     "execution_count": 13,
     "metadata": {},
     "output_type": "execute_result"
    },
    {
     "data": {
      "image/png": "[encoded data removed]",
      "text/plain": [
       "<Figure size 432x288 with 1 Axes>"
      ]
     },
     "metadata": {
      "needs_background": "light"
     },
     "output_type": "display_data"
    }
   ],
   "source": [
    "from sklearn.manifold import TSNE\n",
    "X_embedded = TSNE(n_components=2, random_state=123).fit_transform(embeddings)\n",
    "for val, color in [(0, 'red'), (1, 'blue')]:\n",
    "    idx = (test_data['label'].to_numpy() == val).nonzero()\n",
    "    plt.scatter(X_embedded[idx, 0], X_embedded[idx, 1], c=color, label=f'label={val}')\n",
    "plt.legend(loc='best')"
   ]
  }
 ],
 "metadata": {
  "kernelspec": {
   "display_name": "conda_python3",
   "language": "python",
   "name": "conda_python3"
  },
  "language_info": {
   "codemirror_mode": {
    "name": "ipython",
    "version": 3
   },
   "file_extension": ".py",
   "mimetype": "text/x-python",
   "name": "python",
   "nbconvert_exporter": "python",
   "pygments_lexer": "ipython3",
   "version": "3.6.13"
  }
 },
 "nbformat": 4,
 "nbformat_minor": 5
}
